{
  "nbformat": 4,
  "nbformat_minor": 0,
  "metadata": {
    "colab": {
      "provenance": [],
      "gpuType": "V28",
      "authorship_tag": "ABX9TyNtFLQJ0JRXwIhmeh7KfW/D",
      "include_colab_link": true
    },
    "kernelspec": {
      "name": "python3",
      "display_name": "Python 3"
    },
    "language_info": {
      "name": "python"
    },
    "accelerator": "TPU"
  },
  "cells": [
    {
      "cell_type": "markdown",
      "metadata": {
        "id": "view-in-github",
        "colab_type": "text"
      },
      "source": [
        "<a href=\"https://colab.research.google.com/github/ShreejalBhattarai/Learning_MachineLearning/blob/main/final_results.ipynb\" target=\"_parent\"><img src=\"https://colab.research.google.com/assets/colab-badge.svg\" alt=\"Open In Colab\"/></a>"
      ]
    },
    {
      "cell_type": "code",
      "source": [
        "import torch\n",
        "import torch.nn as nn\n",
        "import torch.optim as optim\n",
        "from torchvision import transforms, datasets\n",
        "from torchvision.models import resnet50, ResNet50_Weights\n",
        "from torch.utils.data import DataLoader, random_split\n",
        "from sklearn.metrics import classification_report, confusion_matrix, roc_curve, auc\n",
        "import matplotlib.pyplot as plt\n",
        "import seaborn as sns\n",
        "import numpy as np\n",
        "import random\n",
        "import os"
      ],
      "metadata": {
        "id": "8H4BTQKiucI2"
      },
      "execution_count": 4,
      "outputs": []
    },
    {
      "cell_type": "markdown",
      "source": [
        "\n",
        "# Configuration & Utilities\n"
      ],
      "metadata": {
        "id": "R5u1g7vSuhwG"
      }
    },
    {
      "cell_type": "markdown",
      "source": [],
      "metadata": {
        "id": "wt5XIaP1ug8P"
      }
    },
    {
      "cell_type": "code",
      "source": [
        "SEED = 42\n",
        "BATCH_SIZE = 32\n",
        "IMG_SIZE = (128, 128)\n",
        "NUM_EPOCHS = 10\n",
        "LR = 1e-3\n",
        "NUM_CLASSES = 2\n",
        "DEVICE = torch.device(\"cuda\" if torch.cuda.is_available() else \"cpu\")\n",
        "SAVE_PATH = \"resnet50_model_state_dict.pth\""
      ],
      "metadata": {
        "id": "WeiVvBDFufzl"
      },
      "execution_count": 5,
      "outputs": []
    },
    {
      "cell_type": "code",
      "source": [
        "# Set random seed for reproducibility\n",
        "torch.manual_seed(SEED)\n",
        "np.random.seed(SEED)\n",
        "random.seed(SEED)"
      ],
      "metadata": {
        "id": "KbZr8Fnaupse"
      },
      "execution_count": 6,
      "outputs": []
    },
    {
      "cell_type": "code",
      "source": [
        "normalize = transforms.Normalize(mean=[0.485, 0.456, 0.406],\n",
        "                                 std=[0.229, 0.224, 0.225])\n",
        "\n",
        "transform_c1 = transforms.Compose([\n",
        "    transforms.Resize(IMG_SIZE),\n",
        "    transforms.ToTensor(),\n",
        "    normalize\n",
        "])\n",
        "\n",
        "transform_c3 = transforms.Compose([\n",
        "    transforms.Resize(IMG_SIZE),\n",
        "    transforms.RandomHorizontalFlip(),\n",
        "    transforms.RandomRotation(10),\n",
        "    transforms.ColorJitter(brightness=0.2, contrast=0.2),\n",
        "    transforms.ToTensor(),\n",
        "    normalize\n",
        "])\n"
      ],
      "metadata": {
        "id": "qvG5yhAduwTc"
      },
      "execution_count": 7,
      "outputs": []
    },
    {
      "cell_type": "code",
      "source": [
        "class ClasswiseTransformImageFolder(datasets.ImageFolder):\n",
        "    def __init__(self, root, transform_map):\n",
        "        super().__init__(root, transform=None)\n",
        "        self.transform_map = transform_map\n",
        "\n",
        "    def __getitem__(self, index):\n",
        "        img, label = super().__getitem__(index)\n",
        "        if label in self.transform_map:\n",
        "            img = self.transform_map[label](img)\n",
        "        return img, label\n"
      ],
      "metadata": {
        "id": "Xlc8qZR6u0tf"
      },
      "execution_count": 8,
      "outputs": []
    },
    {
      "cell_type": "code",
      "source": [
        "def get_model():\n",
        "    model = resnet50(weights=ResNet50_Weights.IMAGENET1K_V1)\n",
        "    model.fc = nn.Linear(model.fc.in_features, NUM_CLASSES)\n",
        "    return model.to(DEVICE)\n",
        "\n",
        "def save_model(model, path=SAVE_PATH):\n",
        "    torch.save(model.state_dict(), path)\n",
        "\n",
        "def load_model(path=SAVE_PATH):\n",
        "    model = get_model()\n",
        "    model.load_state_dict(torch.load(path, map_location=DEVICE))\n",
        "    model.eval()\n",
        "    return model"
      ],
      "metadata": {
        "id": "sSoUkOI2u3vq"
      },
      "execution_count": 9,
      "outputs": []
    },
    {
      "cell_type": "code",
      "source": [
        "def train(model, train_loader, val_loader, epochs=NUM_EPOCHS):\n",
        "    criterion = nn.CrossEntropyLoss()\n",
        "    optimizer = optim.Adam(model.parameters(), lr=LR)\n",
        "    scheduler = optim.lr_scheduler.StepLR(optimizer, step_size=3, gamma=0.1)\n",
        "\n",
        "    for epoch in range(epochs):\n",
        "        model.train()\n",
        "        running_loss = 0.0\n",
        "\n",
        "        for inputs, labels in train_loader:\n",
        "            inputs, labels = inputs.to(DEVICE), labels.to(DEVICE)\n",
        "            optimizer.zero_grad()\n",
        "            outputs = model(inputs)\n",
        "            loss = criterion(outputs, labels)\n",
        "            loss.backward()\n",
        "            optimizer.step()\n",
        "            running_loss += loss.item()\n",
        "\n",
        "        scheduler.step()\n",
        "        print(f\"Epoch {epoch+1}/{epochs}, Loss: {running_loss / len(train_loader):.4f}\")\n"
      ],
      "metadata": {
        "id": "_OWDDyiiu71_"
      },
      "execution_count": 10,
      "outputs": []
    },
    {
      "cell_type": "code",
      "source": [
        "def evaluate(model, loader, class_names):\n",
        "    model.eval()\n",
        "    all_preds, all_labels, all_probs = [], [], []\n",
        "\n",
        "    with torch.no_grad():\n",
        "        for inputs, labels in loader:\n",
        "            inputs, labels = inputs.to(DEVICE), labels.to(DEVICE)\n",
        "            outputs = model(inputs)\n",
        "            probs = torch.softmax(outputs, dim=1)[:, 1]\n",
        "            _, preds = torch.max(outputs, 1)\n",
        "            all_labels.extend(labels.cpu().numpy())\n",
        "            all_preds.extend(preds.cpu().numpy())\n",
        "            all_probs.extend(probs.cpu().numpy())\n",
        "\n",
        "    print(classification_report(all_labels, all_preds, target_names=class_names))\n",
        "    return all_labels, all_preds, all_probs\n"
      ],
      "metadata": {
        "id": "U-9LMxXlu80u"
      },
      "execution_count": 11,
      "outputs": []
    },
    {
      "cell_type": "code",
      "source": [
        "def plot_confusion_matrix(y_true, y_pred, class_names):\n",
        "    cm = confusion_matrix(y_true, y_pred)\n",
        "    plt.figure(figsize=(6,5))\n",
        "    sns.heatmap(cm, annot=True, fmt='d', cmap='Blues',\n",
        "                xticklabels=class_names, yticklabels=class_names)\n",
        "    plt.xlabel('Predicted')\n",
        "    plt.ylabel('True')\n",
        "    plt.title('Confusion Matrix')\n",
        "    plt.show()"
      ],
      "metadata": {
        "id": "YEsj2TLbvIAX"
      },
      "execution_count": 12,
      "outputs": []
    },
    {
      "cell_type": "code",
      "source": [
        "def plot_roc(y_true, y_scores):\n",
        "    fpr, tpr, _ = roc_curve(y_true, y_scores)\n",
        "    roc_auc = auc(fpr, tpr)\n",
        "    plt.figure()\n",
        "    plt.plot(fpr, tpr, color='darkorange', label=f'ROC curve (AUC = {roc_auc:.2f})')\n",
        "    plt.plot([0, 1], [0, 1], color='navy', linestyle='--')\n",
        "    plt.xlabel('False Positive Rate')\n",
        "    plt.ylabel('True Positive Rate')\n",
        "    plt.title('ROC Curve')\n",
        "    plt.legend()\n",
        "    plt.show()"
      ],
      "metadata": {
        "id": "0uLx_rVrvjj5"
      },
      "execution_count": 13,
      "outputs": []
    },
    {
      "cell_type": "code",
      "execution_count": 14,
      "metadata": {
        "colab": {
          "base_uri": "https://localhost:8080/"
        },
        "id": "Ugh5QnhQuUd6",
        "outputId": "6d4d5049-f61b-4092-e72c-52a66e8c9a59"
      },
      "outputs": [
        {
          "output_type": "stream",
          "name": "stdout",
          "text": [
            "Mounted at /content/drive\n"
          ]
        }
      ],
      "source": [
        "transform_map = {\n",
        "    0: transform_c1,\n",
        "    1: transform_c3\n",
        "}\n",
        "from google.colab import drive\n",
        "drive.mount('/content/drive')\n",
        "dataset = ClasswiseTransformImageFolder('/content/drive/MyDrive/OP_Rolling_Ball_Imgs', transform_map)\n"
      ]
    },
    {
      "cell_type": "code",
      "source": [
        "def main():\n",
        "    dataset = ClasswiseTransformImageFolder('/content/drive/MyDrive/OP_Rolling_Ball_Imgs', transform_map)\n",
        "    class_names = dataset.classes\n",
        "\n",
        "    train_size = int(0.7 * len(dataset))\n",
        "    val_size = int(0.15 * len(dataset))\n",
        "    test_size = len(dataset) - train_size - val_size\n",
        "\n",
        "    train_ds, val_ds, test_ds = random_split(dataset, [train_size, val_size, test_size])\n",
        "    train_loader = DataLoader(train_ds, batch_size=BATCH_SIZE, shuffle=True)\n",
        "    val_loader = DataLoader(val_ds, batch_size=BATCH_SIZE)\n",
        "    test_loader = DataLoader(test_ds, batch_size=BATCH_SIZE)\n",
        "\n",
        "    model = get_model()\n",
        "    train(model, train_loader, val_loader)\n",
        "    save_model(model)\n",
        "\n",
        "    print(\"\\nEvaluating model...\")\n",
        "    y_true, y_pred, y_scores = evaluate(model, test_loader, class_names)\n",
        "    plot_confusion_matrix(y_true, y_pred, class_names)\n",
        "    plot_roc(y_true, y_scores)\n",
        "\n",
        "if __name__ == \"__main__\":\n",
        "    main()"
      ],
      "metadata": {
        "colab": {
          "base_uri": "https://localhost:8080/",
          "height": 1000
        },
        "id": "82LG56b6vnb0",
        "outputId": "42a64a8c-c5f6-4663-b0b8-acd07747d83f"
      },
      "execution_count": 13,
      "outputs": [
        {
          "output_type": "stream",
          "name": "stderr",
          "text": [
            "Downloading: \"https://download.pytorch.org/models/resnet50-0676ba61.pth\" to /root/.cache/torch/hub/checkpoints/resnet50-0676ba61.pth\n",
            "100%|██████████| 97.8M/97.8M [00:00<00:00, 198MB/s]\n"
          ]
        },
        {
          "output_type": "stream",
          "name": "stdout",
          "text": [
            "Epoch 1/10, Loss: 0.6339\n",
            "Epoch 2/10, Loss: 0.2416\n",
            "Epoch 3/10, Loss: 0.1420\n",
            "Epoch 4/10, Loss: 0.1172\n",
            "Epoch 5/10, Loss: 0.0872\n",
            "Epoch 6/10, Loss: 0.0700\n",
            "Epoch 7/10, Loss: 0.0670\n",
            "Epoch 8/10, Loss: 0.0550\n",
            "Epoch 9/10, Loss: 0.0641\n",
            "Epoch 10/10, Loss: 0.0675\n",
            "\n",
            "Evaluating model...\n",
            "              precision    recall  f1-score   support\n",
            "\n",
            "          C1       1.00      0.98      0.99        42\n",
            "          C3       0.97      1.00      0.99        33\n",
            "\n",
            "    accuracy                           0.99        75\n",
            "   macro avg       0.99      0.99      0.99        75\n",
            "weighted avg       0.99      0.99      0.99        75\n",
            "\n"
          ]
        },
        {
          "output_type": "display_data",
          "data": {
            "text/plain": [
              "<Figure size 600x500 with 2 Axes>"
            ],
            "image/png": "[encoded data removed]"
          },
          "metadata": {}
        },
        {
          "output_type": "display_data",
          "data": {
            "text/plain": [
              "<Figure size 640x480 with 1 Axes>"
            ],
            "image/png": "[encoded data removed]"
          },
          "metadata": {}
        }
      ]
    },
    {
      "cell_type": "markdown",
      "source": [
        "Now, let's test using k-fold cross validation\n"
      ],
      "metadata": {
        "id": "fAe_NYvSKo_v"
      }
    },
    {
      "cell_type": "code",
      "source": [
        "from sklearn.model_selection import KFold\n",
        "from sklearn.preprocessing import StandardScaler\n",
        "from torch.utils.data import DataLoader, Subset\n",
        "import numpy as np"
      ],
      "metadata": {
        "id": "_hYHp4ZzGbUV"
      },
      "execution_count": 3,
      "outputs": []
    },
    {
      "cell_type": "code",
      "source": [
        "kfold = KFold(n_splits=10, shuffle= True, random_state= 42)\n",
        "fold_accuracies = []\n",
        "for fold, (train_ids, val_ids) in enumerate(kfold.split(dataset)):\n",
        "    print(f'\\n--- Fold {fold + 1} ---')\n",
        "    train_subset = Subset(dataset, train_ids)\n",
        "    val_subset = Subset(dataset, val_ids)\n",
        "    train_loader = DataLoader(train_subset, batch_size=BATCH_SIZE, shuffle=True)\n",
        "    val_loader = DataLoader(val_subset, batch_size=BATCH_SIZE, shuffle=False)\n",
        "    model.train()\n",
        "\n"
      ],
      "metadata": {
        "id": "IyXBLlK8Gqhc"
      },
      "execution_count": 2,
      "outputs": []
    }
  ]
}